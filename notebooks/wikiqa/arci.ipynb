{
 "cells": [
  {
   "cell_type": "markdown",
   "metadata": {},
   "source": [
    "### Build a Arc-I Model\n",
    "\n",
    "<img src=\"https://raw.githubusercontent.com/NTMC-Community/MatchZoo/2.0/artworks/matchzoo-logo.png\" alt=\"logo\" style=\"width:600px;float: center\"/>\n",
    "\n",
    "This is a tutorial on training *Arc-I Model* [Hu et al. 2014](http://papers.nips.cc/paper/5550-convolutional-neural-network-architectures-for-matching-natural-language-sentences.pdf) model with [MatchZoo](https://github.com/faneshion/MatchZoo). We use [WikiQA](https://aclweb.org/anthology/D15-1237) as the example benchmark data set to show the usage.\n",
    "\n",
    "*To walk through this notebook, you need approx 90 minutes.*\n",
    "\n",
    "-------"
   ]
  },
  {
   "cell_type": "markdown",
   "metadata": {},
   "source": [
    "**TL;DR**\n",
    "\n",
    "The following code block illustrates the main workflow of how to train a Arc-I model. \n",
    "\n",
    "```python\n",
    "from matchzoo import preprocessor\n",
    "from matchzoo import generators\n",
    "from matchzoo import models\n",
    "\n",
    "train, test = ... # prepare your training data and test data.\n",
    "\n",
    "arci_preprocessor = preprocessor.ArcIPreprocessor()\n",
    "processed_tr = arci_preprocessor.fit_transform(train, stage='train')\n",
    "processed_te = arci_preprocessor.fit_transform(test, stage='predict')\n",
    "\n",
    "\n",
    "generator_tr = generators.PointGenerator(processed_tr)\n",
    "generator_te = generators.PointGenerator(processed_te)\n",
    "# Example, train with generator, test with the first batch.\n",
    "X_te, y_te = generator_te[0]\n",
    "\n",
    "arci_model = models.ArcIModel()\n",
    "arci_model.guess_and_fill_missing_params()\n",
    "arci_model.build()\n",
    "arci_model.compile()\n",
    "arci_model.fit_generator(generator_tr)\n",
    "# Make predictions\n",
    "predictions = arci_model.predict([X_te.text_left, X_te.text_right])\n",
    "```\n",
    "\n",
    "-----"
   ]
  },
  {
   "cell_type": "markdown",
   "metadata": {},
   "source": [
    "MatchZoo expect a list of *Quintuple* as training data:\n",
    "\n",
    "```python\n",
    "train = [('qid0', 'did0', 'query 0', 'document 0', 'label 0'),\n",
    "         ('qid0', 'did1', 'query 0', 'document 1', 'label 1'),\n",
    "          ...,\n",
    "         ('qid1', 'did2', 'query 1', 'document 2', 'label 3')]\n",
    "```\n",
    "\n",
    "The corresponded columns are `(text_left_id, text_right_id, text_left, text_right, label)`. For Information Retrieval task, *text_left* is referred as *query*, and *text_right* is document.\n",
    "\n",
    "For the test case, MatchZoo expect a list of *Quadruple* (we do not need labels) as input:\n",
    "\n",
    "```python\n",
    "test = [('qid9', 'did5', 'query 9', 'document 5'),\n",
    "         ...,\n",
    "        ('qid2', 'did7', 'query 2', 'document 7')]\n",
    "```"
   ]
  },
  {
   "cell_type": "markdown",
   "metadata": {},
   "source": [
    "### Table of Content\n",
    "\n",
    "+ Prepare WikiQA dataset\n",
    "    - Download\n",
    "    - Load\n",
    "    - Adjustment\n",
    "+ Preprocessing\n",
    "+ Data Generator\n",
    "+ Model Training\n",
    "    - Initialize\n",
    "    - Hyper-Parameters\n",
    "    - Make Prediction\n",
    "    - Model Persistence\n",
    "- Reference"
   ]
  },
  {
   "cell_type": "markdown",
   "metadata": {},
   "source": [
    "### Prepare WikiQA dataset\n",
    "\n",
    "#### Download\n",
    "\n",
    "We take WikiQA as the example benchmark dataset to show the usage of MatchZoo. Firstly you need to downlowd the data and uncompress the data, we provided the following script to help you download the dataset into `MatchZoo/data/WikiQA` folder, you can change the directory in the following script.\n",
    "\n",
    "If you already have WikiQA dataset downloaded on your machine, skip the following script."
   ]
  },
  {
   "cell_type": "code",
   "execution_count": null,
   "metadata": {},
   "outputs": [],
   "source": [
    "!rm -rf ../../data/WikiQA\n",
    "!mkdir -p ../../data/WikiQA\n",
    "!wget -P ../../data/WikiQA https://download.microsoft.com/download/E/5/F/E5FCFCEE-7005-4814-853D-DAA7C66507E0/WikiQACorpus.zip\n",
    "!unzip -d ../../data/WikiQA ../../data/WikiQA/WikiQACorpus.zip"
   ]
  },
  {
   "cell_type": "markdown",
   "metadata": {},
   "source": [
    "#### Load & Adjustment\n",
    "\n",
    "The *train/dev/test* files of WikiQA are *WikiQA-train.tsv*, *WikiQA-dev.tsv*, *WikiQA-test.tsv* under the uncompressed folder WikiQACorpus. The data format of WikiQA is as follows:\n",
    "\n",
    "`QuestionID\\tQuestion\\tDocumentID\\tDocumentTitle\\tSentenceID\\tSentence\\tLabel`\n",
    "\n",
    "We can convert this format to the expected input format of MatchZoo."
   ]
  },
  {
   "cell_type": "code",
   "execution_count": 2,
   "metadata": {},
   "outputs": [],
   "source": [
    "data_folder = '../../data/WikiQA/WikiQACorpus/'\n",
    "\n",
    "def read_data(input, stage):\n",
    "    output_list = []\n",
    "    index = 0\n",
    "    with open(input, encoding=\"utf-8\") as fin:\n",
    "        for l in fin:\n",
    "            tok = l.split('\\t')\n",
    "            if index != 0:\n",
    "                if stage == 'test':\n",
    "                    output_list.append((tok[0], tok[4], tok[1], tok[5])) # qid, did, q, d, label\n",
    "                else:\n",
    "                    output_list.append((tok[0], tok[4], tok[1], tok[5], tok[6])) # qid, did, q, d \n",
    "            index += 1\n",
    "    return output_list\n",
    "\n",
    "train = read_data(data_folder + 'WikiQA-train.tsv', stage='train')\n",
    "dev   = read_data(data_folder + 'WikiQA-dev.tsv', stage='dev')\n",
    "test  = read_data(data_folder + 'WikiQA-test.tsv', stage='test')"
   ]
  },
  {
   "cell_type": "markdown",
   "metadata": {},
   "source": [
    "### Preprocessing\n"
   ]
  },
  {
   "cell_type": "markdown",
   "metadata": {},
   "source": [
    "#### Download\n",
    "\n",
    "We first download the GLoVe pre-trained word embeddings. Be pationt - this takes a long time related to your network service. Alternatively, you can download it via another downloading tool and put **glove.840B.300d.txt** in the directory **../../data/embedding**."
   ]
  },
  {
   "cell_type": "code",
   "execution_count": 3,
   "metadata": {
    "scrolled": false
   },
   "outputs": [
    {
     "name": "stdout",
     "output_type": "stream",
     "text": [
      "--2018-11-04 10:47:46--  http://nlp.stanford.edu/data/glove.840B.300d.zip\n",
      "Connecting to 10.61.3.150:8088... ^C\n",
      "Archive:  ../../data/embedding/glove.840B.300d.zip\n",
      "  End-of-central-directory signature not found.  Either this file is not\n",
      "  a zipfile, or it constitutes one disk of a multi-part archive.  In the\n",
      "  latter case the central directory and zipfile comment will be found on\n",
      "  the last disk(s) of this archive.\n",
      "unzip:  cannot find zipfile directory in one of ../../data/embedding/glove.840B.300d.zip or\n",
      "        ../../data/embedding/glove.840B.300d.zip.zip, and cannot find ../../data/embedding/glove.840B.300d.zip.ZIP, period.\n"
     ]
    }
   ],
   "source": [
    "!mkdir -p ../../data/embedding\n",
    "!wget -O ../../data/embedding/glove.840B.300d.zip http://nlp.stanford.edu/data/glove.840B.300d.zip \n",
    "!unzip -o ../../data/embedding/glove.840B.300d.zip -d ../../data/embedding"
   ]
  },
  {
   "cell_type": "markdown",
   "metadata": {},
   "source": [
    "#### Preproceesing with pre-trained embeddings\n",
    "\n",
    "We run the processor in three lines of code.  \n",
    "If we use **the randomly initialized embeddings**, just keep default value for *embedding_file*, and the preprocessing code is as follows:\n",
    "```python\n",
    "from matchzoo import preprocessor\n",
    "arci_preprocessor = preprocessor.ArcIPreprocessor()\n",
    "processed_tr = arci_preprocessor.fit_transform(train, stage='train')\n",
    "processed_te = arci_preprocessor.fit_transform(test, stage='predict')\n",
    "```"
   ]
  },
  {
   "cell_type": "code",
   "execution_count": 4,
   "metadata": {},
   "outputs": [
    {
     "name": "stderr",
     "output_type": "stream",
     "text": [
      "Using TensorFlow backend.\n",
      "Start building vocabulary & fitting parameters.\n",
      "2118it [00:00, 3250.69it/s]\n",
      "18841it [00:08, 2100.09it/s]\n",
      "Some words are not shown in term_index(29924). Total number of words are 29925.\n",
      "2196017it [00:55, 39852.02it/s]\n",
      "Start processing input data for train stage.\n",
      "2118it [00:00, 2754.38it/s]\n",
      "18841it [00:10, 1820.31it/s]\n",
      "Start processing input data for predict stage.\n",
      "633it [00:00, 2620.76it/s]\n",
      "5961it [00:03, 1834.15it/s]\n"
     ]
    }
   ],
   "source": [
    "# Initialize a arci preprocessor.\n",
    "from matchzoo import preprocessor\n",
    "arci_preprocessor = preprocessor.ArcIPreprocessor(embedding_file='../../data/embedding/glove.840B.300d.txt')\n",
    "processed_tr = arci_preprocessor.fit_transform(train, stage='train')\n",
    "processed_te = arci_preprocessor.fit_transform(test, stage='predict')"
   ]
  },
  {
   "cell_type": "markdown",
   "metadata": {},
   "source": [
    "**What is `processed_tr`?**\n",
    "\n",
    "`processed_tr` is a **MatchZoo DataPack** data structure (see `matchzoo/datapack.py`). It contains \n",
    "1. A *2-columns* `pandas DataFrame` called `left` to host all the pre-processed records including index and processed text to store `text_left` and `id_left`.\n",
    "2. A *2-columns* `pandas DataFrame` called `right` to host all the pre-processed records including index and processed text to store `text_right` and `id_right`.\n",
    "3. A *2-columns* `pandas DataFrame` called `relation` to host all the pre-processed records including index and index mapping `id_left` and `id_right`.\n",
    "4. A `context` property (dictionary) consists of all the parameters fitted during pre-processing. \n",
    "\n",
    "\n",
    "The `fit_transform` method is a sequential combination of two methods:\n",
    "\n",
    "1. Fit parameters using the `fit` function, this only happens when `stage='train'`.\n",
    "2. Transform data into expected format.\n",
    "\n",
    "So the previous preprocessing code in test stage can also be written as:\n",
    "\n",
    "```python\n",
    "processed_te = arci_preprocessor.transform(test, stage='predict')\n",
    "```"
   ]
  },
  {
   "cell_type": "markdown",
   "metadata": {},
   "source": [
    "As described, the fitted parameters were stored in `context` property, to access the context, just call:\n",
    "\n",
    "```python\n",
    "print(processed_tr.context)\n",
    "```\n",
    "An example:"
   ]
  },
  {
   "cell_type": "code",
   "execution_count": 5,
   "metadata": {},
   "outputs": [
    {
     "name": "stdout",
     "output_type": "stream",
     "text": [
      "vocab size:  29924\n"
     ]
    }
   ],
   "source": [
    "print('vocab size: ', len(processed_tr.context['term_index']))"
   ]
  },
  {
   "cell_type": "markdown",
   "metadata": {},
   "source": [
    "**What has been stored in the `context?`** \n",
    "\n",
    "We stored `term_index` and `input_shapes` in the context property. \n",
    "\n",
    "\n",
    "**What is `arci_preprocessor` actually doing?**\n",
    "\n",
    "The `arci_preprocessor` is calling a sequence of `process_units`. Each `process_unit` is designed to perform one atom operation on input data. For instance, in `arci_preprocessor`, we called:\n",
    "\n",
    "\n",
    "1. TokenizeUnit: Perform tokenization on raw input data.\n",
    "2. LowercaseUnit: Transform all tokens into lower case.\n",
    "3. PuncRemovalUnit: Remove all the punctuations.\n",
    "4. StopRemovalUnit: Remove all the stopwords.\n",
    "\n",
    "Depending on whether using the pre-trained embeddings, the preprocessor loads the embedding from an embedding file or randomly initializes the embeddings.\n",
    "\n",
    "\n",
    "----\n",
    "\n",
    "### Data Generation\n",
    "\n",
    "For memory efficiency, we expect you to use **generator** to generate batches of data on the fly. For example, we can create a **PointGenerator** as follows:"
   ]
  },
  {
   "cell_type": "code",
   "execution_count": 6,
   "metadata": {},
   "outputs": [],
   "source": [
    "from matchzoo import generators\n",
    "from matchzoo import tasks\n",
    "generator_tr = generators.PointGenerator(inputs=processed_tr, task=tasks.Ranking(), batch_size=64, stage='train')\n",
    "generator_te = generators.PointGenerator(inputs=processed_te, task=tasks.Ranking(), batch_size=64, stage='predict')"
   ]
  },
  {
   "cell_type": "markdown",
   "metadata": {},
   "source": [
    "To get the first batch of trainig data, just call `X_train, y_train = generator[0]`.\n",
    "\n",
    "**What is PointGenerator?**\n",
    "**PointGenerator** is this case, it is assumed that each query-document pair in the training data has a numerical or ordinal score. Then the problem can be approximated by a regression/Classification problem — given a single query-document pair, predict its score.\n",
    "\n",
    "A number of existing supervised machine learning algorithms can be readily used for this purpose. Ordinal regression and classification algorithms can also be used in pointwise approach when they are used to predict the score of a single query-document pair, and it takes a small, finite number of values.\n",
    "\n",
    "**What is PairGenerator?**\n",
    "In this case, the problem is approximated by a classification problem — learning a binary classifier that can tell which document is better in a given pair of documents.\n",
    "\n",
    "In MatchZoo, **PairGenerator** generate one positive & `num_neg` negative examples per pair. As an example, to train a ARCI model (for document ranking), we use `num_neg=4`. \n",
    "\n",
    "**What is ListGenerator?**\n",
    "This generator try to directly optimize the value of evaluation measures, averaged over all queries in the training data. \n",
    "\n",
    "Chosse the appropriate generator based on your `task`.\n",
    "\n",
    "----\n",
    "\n",
    "### Train Your Arc-I Model\n",
    "\n",
    "To train a Arc-I model, we need to create an instance of ArcIModel:"
   ]
  },
  {
   "cell_type": "code",
   "execution_count": 7,
   "metadata": {},
   "outputs": [],
   "source": [
    "from matchzoo import models\n",
    "arci_model = models.ArcIModel()"
   ]
  },
  {
   "cell_type": "markdown",
   "metadata": {},
   "source": [
    "Then, we need to set hyper-parameters to our Arc-I Model. In general, there are **two types of hyper-parameters**:\n",
    "\n",
    "**Required parameters**: For Arc-I, if you are using the pre-trained embeddings, you're required to set the embedding_mat and the size manually!"
   ]
  },
  {
   "cell_type": "code",
   "execution_count": 8,
   "metadata": {},
   "outputs": [],
   "source": [
    "# The fitted parameters is stored in the `context` property of pre-processor instance during the training stage.\n",
    "from matchzoo import losses\n",
    "from matchzoo import tasks\n",
    "arci_model.params['task'] = tasks.Ranking()\n",
    "arci_model.embedding_mat = processed_tr.context['embedding_mat']"
   ]
  },
  {
   "cell_type": "markdown",
   "metadata": {
    "collapsed": true
   },
   "source": [
    "**Tunable parameters**: For Arc-I, you're allowed to tune these parameters:\n",
    "\n",
    "```python\n",
    "from matchzoo import tasks\n",
    "\n",
    "        \n",
    "params = {\n",
    "            'input_shapes': [(32,), (32,)] # Lengths of matching texts.\n",
    "            'optimizer': 'adam' # By default, we use sgd. See keras optimizer.\n",
    "            'trainable_embedding': False # Whether finetune the embeddings.\n",
    "            'num_blocks': 1 # Number of the convolution layers.\n",
    "            'left_kernel_count': [32] # Number of filters in convolution. See keras Conv1D.\n",
    "            'left_kernel_size': [3] # The length of the 1D convolution window. See keras Conv1D.\n",
    "            'right_kernel_count': [32] # Number of filters in convolution. See keras Conv1D.\n",
    "            'right_kernel_size': [3] # The length of the 1D convolution window. See keras Conv1D.\n",
    "            'activation': 'relu' # Activation function in convolution. See keras Conv1D.\n",
    "            'left_pool_size': [2] # Size of the max pooling windows for the left text. See keras MaxPooling1D.\n",
    "            'right_pool_size': [2] # Size of the max pooling windows for rhe right text. See keras MaxPooling1D.\n",
    "            'padding': 'same' # Padding mode. See keras padding in Conv1D.   \n",
    "            'dropout_rate': 0.0 # Probability of an element to be zeroed. See keras Dropout.\n",
    "            'embedding_random_scale': 0.2 # The range of the random initialized embedding. \n",
    "            'task': tasks.Classification, # Default Classification, you can use tasks.Ranking\n",
    "            'loss': 'categorical_crossentropy', # categorical_crossentropy, see keras loss.\n",
    "            'metric': 'acc', # Accuracy by default, see keras metric.\n",
    "         }\n",
    "```"
   ]
  },
  {
   "cell_type": "code",
   "execution_count": 9,
   "metadata": {
    "scrolled": false
   },
   "outputs": [
    {
     "name": "stdout",
     "output_type": "stream",
     "text": [
      "arci parameters:  name                          ArcIModel\n",
      "model_class                   <class 'matchzoo.models.arci_model.ArcIModel'>\n",
      "input_shapes                  [(32,), (32,)]\n",
      "task                          <matchzoo.tasks.ranking.Ranking object at 0x7f5ffb7c0f98>\n",
      "metrics                       ['mae']\n",
      "loss                          mse\n",
      "optimizer                     adam\n",
      "trainable_embedding           False\n",
      "embedding_dim                 300\n",
      "vocab_size                    29925\n",
      "num_blocks                    1\n",
      "left_kernel_count             [32]\n",
      "left_kernel_size              [3]\n",
      "right_kernel_count            [32]\n",
      "right_kernel_size             [3]\n",
      "activation                    relu\n",
      "left_pool_size                [2]\n",
      "right_pool_size               [2]\n",
      "padding                       same\n",
      "dropout_rate                  0.0\n",
      "embedding_mat                 [[ 0.          0.          0.         ...  0.          0.\n",
      "   0.        ]\n",
      " [-0.42932     0.047699   -0.31364    ... -0.44607    -0.056797\n",
      "  -0.6577    ]\n",
      " [-0.32283     0.59952    -0.27585    ... -0.037257   -0.30864\n",
      "   0.51433   ]\n",
      " ...\n",
      " [ 0.78817     0.29215    -0.0038918  ...  0.23684     0.012946\n",
      "  -0.15479   ]\n",
      " [ 0.18107061 -0.020129   -0.13868712 ... -0.02246387  0.19868855\n",
      "  -0.07401113]\n",
      " [-0.16954    -0.84568    -0.30687    ...  0.76507     0.15062\n",
      "  -0.28026   ]]\n",
      "embedding_random_scale        0.2\n"
     ]
    }
   ],
   "source": [
    "arci_model.guess_and_fill_missing_params()\n",
    "print('arci parameters: ', arci_model.params)"
   ]
  },
  {
   "cell_type": "markdown",
   "metadata": {},
   "source": [
    "#### Model Training\n",
    "\n",
    "To train the model after all the parameters were settled, call:"
   ]
  },
  {
   "cell_type": "code",
   "execution_count": 10,
   "metadata": {},
   "outputs": [
    {
     "name": "stdout",
     "output_type": "stream",
     "text": [
      "Epoch 1/10\n",
      "200/200 [==============================] - 7s 33ms/step - loss: 0.0616 - mean_absolute_error: 0.1448\n",
      "Epoch 2/10\n",
      "200/200 [==============================] - 6s 32ms/step - loss: 0.0482 - mean_absolute_error: 0.1099\n",
      "Epoch 3/10\n",
      "200/200 [==============================] - 6s 32ms/step - loss: 0.0402 - mean_absolute_error: 0.1031\n",
      "Epoch 4/10\n",
      "200/200 [==============================] - 6s 31ms/step - loss: 0.0364 - mean_absolute_error: 0.1040\n",
      "Epoch 5/10\n",
      "200/200 [==============================] - 6s 32ms/step - loss: 0.0343 - mean_absolute_error: 0.1024\n",
      "Epoch 6/10\n",
      "200/200 [==============================] - 6s 31ms/step - loss: 0.0301 - mean_absolute_error: 0.1033\n",
      "Epoch 7/10\n",
      "200/200 [==============================] - 6s 32ms/step - loss: 0.0277 - mean_absolute_error: 0.0988\n",
      "Epoch 8/10\n",
      "200/200 [==============================] - 6s 31ms/step - loss: 0.0265 - mean_absolute_error: 0.1005:\n",
      "Epoch 9/10\n",
      "200/200 [==============================] - 6s 31ms/step - loss: 0.0214 - mean_absolute_error: 0.0925\n",
      "Epoch 10/10\n",
      "200/200 [==============================] - 6s 31ms/step - loss: 0.0220 - mean_absolute_error: 0.0930\n"
     ]
    }
   ],
   "source": [
    "arci_model.build()\n",
    "arci_model.compile()\n",
    "# Fit the arci model on generator.\n",
    "arci_model.fit_generator(generator_tr, steps_per_epoch=200, epochs=10)\n",
    "# Make predictions on the first batch of test data\n",
    "X_te, y_te = generator_te[0]\n",
    "predictions = arci_model.predict([X_te.text_left, X_te.text_right])"
   ]
  },
  {
   "cell_type": "markdown",
   "metadata": {},
   "source": [
    "#### Make Prediction"
   ]
  },
  {
   "cell_type": "code",
   "execution_count": 11,
   "metadata": {},
   "outputs": [
    {
     "name": "stdout",
     "output_type": "stream",
     "text": [
      "Q1842/D674-2 is predicted as [0.07940455]\n",
      "Q2073/D1956-0 is predicted as [0.11562713]\n",
      "Q153/D153-3 is predicted as [0.15267068]\n",
      "Q1572/D1490-4 is predicted as [-0.01647591]\n",
      "Q2953/D2730-2 is predicted as [0.04182901]\n",
      "Q1918/D1812-7 is predicted as [0.06530898]\n",
      "Q1118/D1076-5 is predicted as [0.03028291]\n",
      "Q607/D596-3 is predicted as [0.1093749]\n",
      "Q2663/D2486-5 is predicted as [-0.12719628]\n",
      "Q802/D776-0 is predicted as [0.02008557]\n",
      "Q2383/D2237-2 is predicted as [0.18150336]\n",
      "Q2677/D2053-15 is predicted as [0.13989908]\n",
      "Q1714/D1625-8 is predicted as [0.02511153]\n",
      "Q1163/D240-9 is predicted as [0.12640688]\n",
      "Q1707/D1618-2 is predicted as [-0.00618813]\n",
      "Q1389/D1326-5 is predicted as [-0.01539764]\n",
      "Q91/D91-2 is predicted as [-0.01772615]\n",
      "Q519/D511-1 is predicted as [0.22273019]\n",
      "Q724/D704-13 is predicted as [-0.04181942]\n",
      "Q2822/D2621-1 is predicted as [0.0660775]\n",
      "Q2575/D2407-23 is predicted as [-0.02538727]\n",
      "Q1799/D1701-8 is predicted as [0.21721181]\n",
      "Q1211/D1160-7 is predicted as [0.03142788]\n",
      "Q2723/D2538-4 is predicted as [0.16727003]\n",
      "Q262/D262-4 is predicted as [0.08241919]\n",
      "Q889/D859-4 is predicted as [-0.02543282]\n",
      "Q1126/D1084-14 is predicted as [0.02460758]\n",
      "Q744/D722-1 is predicted as [-0.13569775]\n",
      "Q1226/D1035-20 is predicted as [-0.28044924]\n",
      "Q2216/D2088-5 is predicted as [0.14726448]\n",
      "Q2184/D2058-3 is predicted as [-0.19384563]\n",
      "Q292/D291-7 is predicted as [-0.09573939]\n",
      "Q984/D950-10 is predicted as [0.08008603]\n",
      "Q1163/D240-5 is predicted as [0.07344686]\n",
      "Q1152/D1108-16 is predicted as [0.03399313]\n",
      "Q2935/D2716-4 is predicted as [0.17738739]\n",
      "Q1758/D1665-1 is predicted as [0.19476873]\n",
      "Q1517/D1439-3 is predicted as [0.04042885]\n",
      "Q1722/D1632-4 is predicted as [0.01666596]\n",
      "Q1933/D1825-19 is predicted as [0.20195723]\n",
      "Q2615/D2441-9 is predicted as [-0.0657746]\n",
      "Q1406/D1179-12 is predicted as [0.2132437]\n",
      "Q611/D600-2 is predicted as [0.14100355]\n",
      "Q2741/D1331-3 is predicted as [0.04371508]\n",
      "Q2201/D2074-7 is predicted as [0.13855606]\n",
      "Q2061/D1946-2 is predicted as [-0.15706655]\n",
      "Q123/D123-0 is predicted as [0.07284115]\n",
      "Q254/D254-0 is predicted as [0.0141166]\n",
      "Q2884/D2675-7 is predicted as [0.18792212]\n",
      "Q1146/D1103-8 is predicted as [0.02223419]\n",
      "Q2939/D569-21 is predicted as [-0.25050238]\n",
      "Q1602/D1520-0 is predicted as [0.34065446]\n",
      "Q753/D731-0 is predicted as [0.00068054]\n",
      "Q1018/D981-10 is predicted as [-0.06913442]\n",
      "Q1275/D1219-17 is predicted as [0.18999124]\n",
      "Q91/D91-6 is predicted as [0.12011613]\n",
      "Q1460/D1389-0 is predicted as [0.11359752]\n",
      "Q1551/D1469-0 is predicted as [0.08796177]\n",
      "Q615/D270-8 is predicted as [0.04456842]\n",
      "Q2839/D2636-1 is predicted as [-0.08144448]\n",
      "Q1583/D1501-13 is predicted as [0.17829448]\n",
      "Q2739/D2552-7 is predicted as [-0.08646519]\n",
      "Q1154/D1110-4 is predicted as [0.19825047]\n",
      "Q269/D268-0 is predicted as [0.11289978]\n"
     ]
    }
   ],
   "source": [
    "for id_left, id_right, pred in zip(X_te.id_left, X_te.id_right, predictions):\n",
    "    print(\"{}/{} is predicted as {}\".format(id_left, id_right, pred))"
   ]
  },
  {
   "cell_type": "markdown",
   "metadata": {},
   "source": [
    "#### Model Persistence\n",
    "\n",
    "You can persist your trained model using `model.save()` and `load_model` function:\n",
    "\n",
    "```python\n",
    "from matchzoo import engine\n",
    "# Save the model to dir.\n",
    "arci_model.save('/your-model-saved-path')\n",
    "# And load the model from dir.\n",
    "engine.load_model('/your-model-saved-path')\n",
    "```"
   ]
  },
  {
   "cell_type": "markdown",
   "metadata": {},
   "source": [
    "## Reference\n",
    "\n",
    "[Hu et al. 2014] Baotian Hu, Zhengdong Lu, Hang Li, and Qingcai Chen. \"Convolutional neural network architectures for matching natural language sentences.\" In Advances in neural information processing systems (NIPS), pp. 2042-2050. 2014."
   ]
  }
 ],
 "metadata": {
  "kernelspec": {
   "display_name": "matchzoo",
   "language": "python",
   "name": "matchzoo"
  },
  "language_info": {
   "codemirror_mode": {
    "name": "ipython",
    "version": 3
   },
   "file_extension": ".py",
   "mimetype": "text/x-python",
   "name": "python",
   "nbconvert_exporter": "python",
   "pygments_lexer": "ipython3",
   "version": "3.6.2"
  }
 },
 "nbformat": 4,
 "nbformat_minor": 2
}
