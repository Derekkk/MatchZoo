{
 "cells": [
  {
   "cell_type": "code",
   "execution_count": 1,
   "metadata": {},
   "outputs": [
    {
     "name": "stderr",
     "output_type": "stream",
     "text": [
      "Using TensorFlow backend.\n"
     ]
    }
   ],
   "source": [
    "import keras\n",
    "import pandas as pd\n",
    "import numpy as np\n",
    "import matchzoo as mz"
   ]
  },
  {
   "cell_type": "code",
   "execution_count": 2,
   "metadata": {},
   "outputs": [],
   "source": [
    "def read_data(path, include_label):\n",
    "    def scan_file():\n",
    "        with open(path) as in_file:\n",
    "            next(in_file)  # skip header\n",
    "            for l in in_file:\n",
    "                yield l.strip().split('\\t')\n",
    "    if include_label:\n",
    "        return [(qid, did, q, d, float(label)) for qid, q, _, _, did, d, label in scan_file()]\n",
    "    else:\n",
    "        return [(qid, did, q, d) for qid, q, _, _, did, d, _ in scan_file()]"
   ]
  },
  {
   "cell_type": "code",
   "execution_count": 3,
   "metadata": {},
   "outputs": [],
   "source": [
    "train = read_data('../../../data/WikiQA/WikiQACorpus/WikiQA-train.tsv', include_label=True)\n",
    "predict  = read_data('../../../data/WikiQA/WikiQACorpus/WikiQA-test.tsv', include_label=False)"
   ]
  },
  {
   "cell_type": "code",
   "execution_count": 4,
   "metadata": {},
   "outputs": [],
   "source": [
    "train_pack = mz.pack(train[:1000])\n",
    "predict_pack = mz.pack(predict[:1000])"
   ]
  },
  {
   "cell_type": "code",
   "execution_count": 5,
   "metadata": {},
   "outputs": [
    {
     "name": "stderr",
     "output_type": "stream",
     "text": [
      "Processing text_left with chain_transform of TokenizeUnit => LowercaseUnit => PuncRemovalUnit => StopRemovalUnit: 100%|██████████| 96/96 [00:00<00:00, 3641.88it/s]\n",
      "Processing text_right with chain_transform of TokenizeUnit => LowercaseUnit => PuncRemovalUnit => StopRemovalUnit: 100%|██████████| 1000/1000 [00:00<00:00, 3401.25it/s]\n",
      "Processing text_left with extend: 100%|██████████| 96/96 [00:00<00:00, 118671.73it/s]\n",
      "Processing text_right with extend: 100%|██████████| 1000/1000 [00:00<00:00, 289601.88it/s]\n",
      "Fitting vocabulary unit.: 100%|██████████| 13287/13287 [00:00<00:00, 1805069.55it/s]\n"
     ]
    },
    {
     "data": {
      "text/plain": [
       "<matchzoo.preprocessors.drmmtks_preprocessor.DRMMTKSPreprocessor at 0x11a753668>"
      ]
     },
     "execution_count": 5,
     "metadata": {},
     "output_type": "execute_result"
    }
   ],
   "source": [
    "preprocessor = mz.preprocessors.DRMMTKSPreprocessor()\n",
    "preprocessor.fit(train_pack)"
   ]
  },
  {
   "cell_type": "code",
   "execution_count": 6,
   "metadata": {
    "scrolled": false
   },
   "outputs": [
    {
     "name": "stderr",
     "output_type": "stream",
     "text": [
      "Processing text_left with chain_transform of TokenizeUnit => LowercaseUnit => PuncRemovalUnit => StopRemovalUnit => VocabularyUnit: 100%|██████████| 96/96 [00:00<00:00, 5662.08it/s]\n",
      "Processing text_right with chain_transform of TokenizeUnit => LowercaseUnit => PuncRemovalUnit => StopRemovalUnit => VocabularyUnit: 100%|██████████| 1000/1000 [00:00<00:00, 3284.74it/s]\n",
      "Processing text_left with chain_transform of FixedLengthUnit: 100%|██████████| 96/96 [00:00<00:00, 61230.72it/s]\n",
      "Processing text_right with chain_transform of FixedLengthUnit: 100%|██████████| 1000/1000 [00:00<00:00, 73238.65it/s]\n",
      "Processing text_left with chain_transform of TokenizeUnit => LowercaseUnit => PuncRemovalUnit => StopRemovalUnit => VocabularyUnit: 100%|██████████| 108/108 [00:00<00:00, 5857.81it/s]\n",
      "Processing text_right with chain_transform of TokenizeUnit => LowercaseUnit => PuncRemovalUnit => StopRemovalUnit => VocabularyUnit: 100%|██████████| 992/992 [00:00<00:00, 3367.20it/s]\n",
      "Processing text_left with chain_transform of FixedLengthUnit: 100%|██████████| 108/108 [00:00<00:00, 61471.68it/s]\n",
      "Processing text_right with chain_transform of FixedLengthUnit: 100%|██████████| 992/992 [00:00<00:00, 68006.11it/s]\n"
     ]
    }
   ],
   "source": [
    "train_pack_processed = preprocessor.transform(train_pack)\n",
    "predict_pack_processed = preprocessor.transform(predict_pack)"
   ]
  },
  {
   "cell_type": "code",
   "execution_count": 7,
   "metadata": {},
   "outputs": [],
   "source": [
    "train_generator = mz.DataGenerator(train_pack_processed, batch_size=32)"
   ]
  },
  {
   "cell_type": "code",
   "execution_count": 8,
   "metadata": {},
   "outputs": [
    {
     "data": {
      "text/plain": [
       "{'id_left': array(['Q122', 'Q40', 'Q70', 'Q90', 'Q44', 'Q19', 'Q16', 'Q106', 'Q133',\n",
       "        'Q78', 'Q133', 'Q62', 'Q32', 'Q58', 'Q41', 'Q40', 'Q58', 'Q118',\n",
       "        'Q74', 'Q26', 'Q116', 'Q122', 'Q15', 'Q58', 'Q108', 'Q76', 'Q111',\n",
       "        'Q77', 'Q28', 'Q29', 'Q58', 'Q41'], dtype='<U4'),\n",
       " 'text_left': array([[   0,    0,    0,    0,    0,    0,    0,    0, 1940, 3766],\n",
       "        [   0,    0,    0,    0,    0,  600, 4132, 3135,  701, 2812],\n",
       "        [   0,    0,    0,    0,    0,    0,  292,  279, 1345,  753],\n",
       "        [   0,    0,    0,    0,    0,    0,    0,    0, 3052, 2782],\n",
       "        [   0,    0,    0,    0,    0,    0, 4521, 4223, 4590, 4988],\n",
       "        [   0,    0,  292, 4381, 2461, 3067, 4296, 3508, 2603, 1296],\n",
       "        [   0,    0,    0,    0,    0,    0, 3954, 3908, 4295, 1088],\n",
       "        [   0,    0,    0,    0, 4538, 4490, 4766, 4580, 2521, 2173],\n",
       "        [   0,    0,    0,    0,    0,    0,    0,    0, 3487, 4046],\n",
       "        [   0,    0,    0,  292,  820, 2362, 3771, 4729,  292,  171],\n",
       "        [   0,    0,    0,    0,    0,    0,    0,    0, 3487, 4046],\n",
       "        [   0,    0,    0,    0,    0,    0, 4164, 3910, 3597, 1526],\n",
       "        [   0,    0,    0,    0,    0,    0,  600, 5030, 4031, 3022],\n",
       "        [   0,    0,    0,    0,    0, 1897, 4197,  730, 3738, 3597],\n",
       "        [   0,    0,    0,    0,    0,    0,    0,    0,  388,  126],\n",
       "        [   0,    0,    0,    0,    0,  600, 4132, 3135,  701, 2812],\n",
       "        [   0,    0,    0,    0,    0, 1897, 4197,  730, 3738, 3597],\n",
       "        [   0,    0,    0,    0,    0,    0, 4823, 4838,  662, 2921],\n",
       "        [   0,    0,    0,    0,    0, 3954, 2465, 3894, 4360,  213],\n",
       "        [   0,    0,    0,    0,    0,    0,    0,  222, 5030, 4152],\n",
       "        [   0,    0,    0,    0,    0,    0, 1832, 4886, 1538, 1401],\n",
       "        [   0,    0,    0,    0,    0,    0,    0,    0, 1940, 3766],\n",
       "        [   0,    0,    0,    0,    0,    0,    0, 2873,  488, 1202],\n",
       "        [   0,    0,    0,    0,    0, 1897, 4197,  730, 3738, 3597],\n",
       "        [   0,    0,    0,    0,    0,    0, 4897, 1750, 2745, 4152],\n",
       "        [   0,    0,    0,    0,    0,    0,    0, 1905, 1003, 2221],\n",
       "        [   0,    0,    0,    0, 2807, 4193, 1124,  344, 2027, 2180],\n",
       "        [   0,    0,    0,    0,    0,    0,    0, 1459, 2866, 3227],\n",
       "        [   0,    0,    0,    0,    0,    0,  950,  931, 2710, 3368],\n",
       "        [   0,    0,    0,    0,    0,  292, 3564, 2437, 1296, 4691],\n",
       "        [   0,    0,    0,    0,    0, 1897, 4197,  730, 3738, 3597],\n",
       "        [   0,    0,    0,    0,    0,    0,    0,    0,  388,  126]]),\n",
       " 'id_right': array(['D122-6', 'D40-18', 'D70-2', 'D90-3', 'D44-22', 'D19-8', 'D16-7',\n",
       "        'D106-10', 'D133-0', 'D78-3', 'D133-1', 'D62-1', 'D32-8', 'D58-18',\n",
       "        'D41-7', 'D40-6', 'D58-12', 'D118-9', 'D74-1', 'D26-12', 'D116-0',\n",
       "        'D122-0', 'D15-3', 'D58-10', 'D108-0', 'D76-3', 'D111-4', 'D77-1',\n",
       "        'D28-5', 'D29-2', 'D58-8', 'D41-5'], dtype='<U7'),\n",
       " 'text_right': array([[   0,    0,    0,    0,    0,    0,    0,    0,    0,    0,    0,\n",
       "            0,    0,    0, 3429, 2627, 2482, 2232, 2370, 1405],\n",
       "        [3817, 4937, 1706, 2529, 3411, 2773, 3781,  471,  448, 4291, 1940,\n",
       "         4421, 1297,  495, 2837, 2090, 1296, 4855, 1088, 5025],\n",
       "        [3269, 4119,  861, 2659, 4350, 4065, 3579,  861, 2670,  105, 3851,\n",
       "          876, 2834, 1345, 1071, 3302, 1936, 1106, 1074, 1240],\n",
       "        [1854,  624, 1854,  624, 2750, 4288, 1567, 1783, 2077, 1227, 2914,\n",
       "         2662, 4349, 2149, 2662, 1534,  903,  973, 2842,  685],\n",
       "        [   0,    0,    0,    0,    0,    0,    0,    0,    0,    0,    0,\n",
       "            0,    0, 1240, 4417,  497,  914,  583, 1969,  828],\n",
       "        [1692, 5063, 3369, 4271,  612, 2461, 3772,  769, 2482, 1977, 1013,\n",
       "          947,  731,  566, 2561, 1977, 4594, 1201, 3238, 3969],\n",
       "        [   0,    0,    0,    0,    0,    0,    0,    0,    0,    0,    0,\n",
       "            0, 4630, 1778, 2455, 2902, 3507, 3616,  917, 3452],\n",
       "        [   0,    0,    0,    0,    0, 2719, 4282,   19, 2283, 2611, 4294,\n",
       "          955, 2173, 2627, 3607, 3380, 1149, 2465, 3015, 3024],\n",
       "        [   0,    0,    0,    0,    0,    0,    0,    0,    0,    0,    0,\n",
       "            0,    0,    0, 3487, 2284, 1220, 3042, 4981, 4739],\n",
       "        [   0,    0,    0,    0,    0,    0,    0,    0,    0,    0,    0,\n",
       "            0,    0,    0, 3771, 2133, 2482, 1977, 4445, 2111],\n",
       "        [   0,    0,    0,    0,    0,    0,    0,    0,    0,    0,    0,\n",
       "            0,    0,    0,    0,    0,    0, 4722, 2456, 2599],\n",
       "        [   0,    0,  568, 4942,  188, 4924, 3215, 3818, 4619, 1772, 1802,\n",
       "         3564, 3800, 1772, 4988, 1479,  432, 4657, 4173, 4792],\n",
       "        [4924, 3399, 3631, 2715,  213, 1007,  370, 3067, 2495,   60, 3607,\n",
       "          762, 4690, 4296, 4501, 4538, 4490, 4538, 4490, 3043],\n",
       "        [   0,    0,    0,    0,    0,    0,    0,    0,    0,    0,    0,\n",
       "            0, 2977,  730, 2534, 4087, 3408, 3850, 4388, 5004],\n",
       "        [   0,    0,    0,    0,    0,    0,    0,    0,    0,    0,    0,\n",
       "            0,    0,    0,    0, 2522, 1952, 3343, 1598, 2983],\n",
       "        [   0,    0,    0,    0,    0,    0,    0, 3968, 3134, 4132, 2388,\n",
       "         1751,  215, 1088,  336, 3440, 2736,  273, 4719, 3576],\n",
       "        [2556, 1774, 4668, 3240,  560,  913, 3086, 2091,  738,  600,  913,\n",
       "         1022, 1532, 2930,  224,  738, 4121, 5028, 4460, 4250],\n",
       "        [   0,    0,    0,    0,    0,    0,    0,    0,    0,    0,    0,\n",
       "            0,    0,    0,    0, 2176, 1603, 4838, 2235, 4913],\n",
       "        [   0,    0,    0,    0,    0,    0,    0,    0,    0,    0,    0,\n",
       "            0,    0,    0,    0, 3260,  234,  632, 1246, 3955],\n",
       "        [   0,    0,    0,    0,    0,    0,    0,    0,    0,    0, 1907,\n",
       "         3526, 2912, 1668, 4274, 4880, 2535, 1769,   93,  494],\n",
       "        [   0,    0,    0,    0,    0,    0,    0,    0,    0, 4773, 2700,\n",
       "         4423, 4235, 2502,  536, 2723, 2252, 4602, 1944, 4752],\n",
       "        [   0,    0,    0,    0,    0,    0,    0,    0,    0,    0,    0,\n",
       "            0,    0,    0, 2482, 2504, 3891, 3766, 2691, 3917],\n",
       "        [   0, 2873,  488, 1898,  589,  704, 1173, 2438, 2142, 4018,   33,\n",
       "          704, 4044, 2938, 2873, 3965, 2955, 4396, 3435, 1296],\n",
       "        [   0,    0,    0,    0,    0,    0,    0, 3193, 1265, 2015, 1464,\n",
       "         4771, 4001, 3738, 4766, 4388,  669, 4348, 3035, 4001],\n",
       "        [   0, 2001,  586, 3294, 4460, 4214,  156, 2719, 3563, 2368, 4785,\n",
       "         2584, 4897, 1750, 3294, 4221, 1081, 1654,  292, 4533],\n",
       "        [   0,    0,    0,    0,    0,    0, 1905, 1003, 4306, 2881, 2672,\n",
       "         1480, 1573, 1003, 1363, 1261, 4097, 1953, 3447, 3461],\n",
       "        [   0,    0,    0,    0,    0,    0,    0,    0,    0,    0,    0,\n",
       "            0,    0,  639, 2060, 3495,  536, 1348, 3564, 3495],\n",
       "        [   0,    0,    0,    0,    0,    0,    0,    0,    0,    0, 1414,\n",
       "         2866, 4460,  135, 3031,  366, 1459, 2561, 3183, 1555],\n",
       "        [   0,    0,    0,    0,    0,    0,    0,    0,    0, 3322, 3163,\n",
       "         2721,  270,   14, 4615, 2721, 1792, 3793, 3810, 4079],\n",
       "        [   0,    0,    0,    0,    0, 4492, 2201, 2371,  160, 2377, 4101,\n",
       "          269, 1516, 2303, 3374, 2792, 1603, 3526, 2299, 3593],\n",
       "        [   0,    0,    0,    0,    0,    0,    0,    0,    0,    0,    0,\n",
       "            0,   82,  419, 2603,  913,  961, 4615, 5049,   82],\n",
       "        [   0,    0,    0,    0,    0,    0,    0,    0,    0,    0,    0,\n",
       "            0,    0,    0,  157, 4964, 1477,  932, 1283, 1952]])}"
      ]
     },
     "execution_count": 8,
     "metadata": {},
     "output_type": "execute_result"
    }
   ],
   "source": [
    "first_batch = train_generator[0]\n",
    "last_batch = train_generator[-1]\n",
    "batch_slice = train_generator[2:5]\n",
    "X, y = first_batch\n",
    "X"
   ]
  },
  {
   "cell_type": "code",
   "execution_count": 9,
   "metadata": {},
   "outputs": [
    {
     "data": {
      "text/plain": [
       "({'id_left': array(['Q1'], dtype='<U2'),\n",
       "  'text_left': array(['how are glacier caves formed?'], dtype='<U29'),\n",
       "  'id_right': array(['D1-0'], dtype='<U4'),\n",
       "  'text_right': array(['A partly submerged glacier cave on Perito Moreno Glacier .'],\n",
       "        dtype='<U58')},\n",
       " array([0.]))"
      ]
     },
     "execution_count": 9,
     "metadata": {},
     "output_type": "execute_result"
    }
   ],
   "source": [
    "train_pack[0].unpack()"
   ]
  },
  {
   "cell_type": "code",
   "execution_count": 10,
   "metadata": {},
   "outputs": [
    {
     "data": {
      "text/plain": [
       "({'id_left': array(['Q1'], dtype='<U2'),\n",
       "  'text_left': array([[   0,    0,    0,    0,    0,    0,    0,  228,  748, 2221]]),\n",
       "  'id_right': array(['D1-0'], dtype='<U4'),\n",
       "  'text_right': array([[   0,    0,    0,    0,    0,    0,    0,    0,    0,    0,    0,\n",
       "             0,    0,  981, 1696,  228, 2969, 4555, 2195,  228]])},\n",
       " array([0.]))"
      ]
     },
     "execution_count": 10,
     "metadata": {},
     "output_type": "execute_result"
    }
   ],
   "source": [
    "train_pack_processed[0].unpack()"
   ]
  },
  {
   "cell_type": "code",
   "execution_count": 11,
   "metadata": {},
   "outputs": [],
   "source": [
    "ranking_task = mz.tasks.Ranking()\n",
    "ranking_task.metrics = [\n",
    "    'mae', 'map', 'precision',\n",
    "    mz.metrics.Precision(k=3),\n",
    "    mz.metrics.NormalizedDiscountedCumulativeGain(k=1),\n",
    "    mz.metrics.NormalizedDiscountedCumulativeGain(k=3),\n",
    "    mz.metrics.NormalizedDiscountedCumulativeGain(k=5)\n",
    "]"
   ]
  },
  {
   "cell_type": "code",
   "execution_count": 12,
   "metadata": {
    "scrolled": false
   },
   "outputs": [
    {
     "name": "stdout",
     "output_type": "stream",
     "text": [
      "[Layer]: input_left\t[Shape]: [None, 10]\n",
      "\n",
      "[Layer]: input_right\t[Shape]: [None, 20]\n",
      "\n",
      "[Layer]: embed_left\t[Shape]: [None, 10, 300]\n",
      "\n",
      "[Layer]: embed_right\t[Shape]: [None, 20, 300]\n",
      "\n",
      "[Layer]: attention_probs\t[Shape]: [None, 10, 1]\n",
      "\n",
      "[Layer]: matching_matrix\t[Shape]: [None, 10, 20]\n",
      "\n",
      "[Layer]: matching_topk\t[Shape]: [None, 10, 10]\n",
      "\n",
      "[Layer]: dense_output\t[Shape]: [None, 10, 1]\n",
      "\n",
      "[Layer]: dot_score\t[Shape]: [None, 1, 1]\n",
      "\n",
      "[Layer]: flatten_score\t[Shape]: [None, None]\n",
      "\n"
     ]
    }
   ],
   "source": [
    "model = mz.models.DRMMTKSModel()\n",
    "input_shapes = preprocessor.context['input_shapes']\n",
    "vocab_size = preprocessor.context['vocab_size']\n",
    "model.params['input_shapes'] = input_shapes\n",
    "model.params['task'] = ranking_task\n",
    "model.params['vocab_size'] = vocab_size\n",
    "model.guess_and_fill_missing_params()\n",
    "model.build()\n",
    "model.compile()"
   ]
  },
  {
   "cell_type": "code",
   "execution_count": 13,
   "metadata": {},
   "outputs": [
    {
     "name": "stdout",
     "output_type": "stream",
     "text": [
      "Epoch 1/10\n",
      "1000/1000 [==============================] - 0s 409us/step - loss: 0.0388 - mean_absolute_error: 0.0674\n",
      "Epoch 2/10\n",
      "1000/1000 [==============================] - 0s 65us/step - loss: 0.0377 - mean_absolute_error: 0.0759\n",
      "Epoch 3/10\n",
      "1000/1000 [==============================] - 0s 67us/step - loss: 0.0374 - mean_absolute_error: 0.0717\n",
      "Epoch 4/10\n",
      "1000/1000 [==============================] - 0s 73us/step - loss: 0.0373 - mean_absolute_error: 0.0703\n",
      "Epoch 5/10\n",
      "1000/1000 [==============================] - 0s 72us/step - loss: 0.0371 - mean_absolute_error: 0.0766\n",
      "Epoch 6/10\n",
      "1000/1000 [==============================] - 0s 70us/step - loss: 0.0370 - mean_absolute_error: 0.0680\n",
      "Epoch 7/10\n",
      "1000/1000 [==============================] - 0s 74us/step - loss: 0.0369 - mean_absolute_error: 0.0779\n",
      "Epoch 8/10\n",
      "1000/1000 [==============================] - 0s 71us/step - loss: 0.0369 - mean_absolute_error: 0.0725\n",
      "Epoch 9/10\n",
      "1000/1000 [==============================] - 0s 67us/step - loss: 0.0368 - mean_absolute_error: 0.0733\n",
      "Epoch 10/10\n",
      "1000/1000 [==============================] - 0s 69us/step - loss: 0.0367 - mean_absolute_error: 0.0709\n"
     ]
    },
    {
     "data": {
      "text/plain": [
       "<keras.callbacks.History at 0x11b7a3860>"
      ]
     },
     "execution_count": 13,
     "metadata": {},
     "output_type": "execute_result"
    }
   ],
   "source": [
    "model.fit(*train_pack_processed.unpack(), epochs=10, batch_size=32)"
   ]
  },
  {
   "cell_type": "code",
   "execution_count": 14,
   "metadata": {},
   "outputs": [
    {
     "data": {
      "text/plain": [
       "array([[0.02800608],\n",
       "       [0.02721103],\n",
       "       [0.0359645 ],\n",
       "       [0.02861269],\n",
       "       [0.02773894],\n",
       "       [0.04422832],\n",
       "       [0.02614155],\n",
       "       [0.02602078],\n",
       "       [0.0238413 ],\n",
       "       [0.0248255 ]], dtype=float32)"
      ]
     },
     "execution_count": 14,
     "metadata": {},
     "output_type": "execute_result"
    }
   ],
   "source": [
    "model.predict(predict_pack_processed[:10].unpack()[0])"
   ]
  },
  {
   "cell_type": "code",
   "execution_count": 15,
   "metadata": {},
   "outputs": [
    {
     "name": "stdout",
     "output_type": "stream",
     "text": [
      "1000/1000 [==============================] - 0s 83us/step\n"
     ]
    },
    {
     "data": {
      "text/plain": [
       "{'loss': 0.03668390703201294,\n",
       " 'mean_absolute_error': 0.07313306993246078,\n",
       " 'mean_average_precision(0)': 0.14736887290341238,\n",
       " 'precision@1(0)': 0.08333333333333333,\n",
       " 'precision@3(0)': 0.06249999999999999,\n",
       " 'normalized_discounted_cumulative_gain@1(0)': 0.08333333333333333,\n",
       " 'normalized_discounted_cumulative_gain@3(0)': 0.12877154152851175,\n",
       " 'normalized_discounted_cumulative_gain@5(0)': 0.16426982801736845}"
      ]
     },
     "execution_count": 15,
     "metadata": {},
     "output_type": "execute_result"
    }
   ],
   "source": [
    "model.evaluate(*train_pack_processed.unpack())"
   ]
  },
  {
   "cell_type": "code",
   "execution_count": null,
   "metadata": {},
   "outputs": [],
   "source": []
  }
 ],
 "metadata": {
  "kernelspec": {
   "display_name": "Python 3",
   "language": "python",
   "name": "python3"
  },
  "language_info": {
   "codemirror_mode": {
    "name": "ipython",
    "version": 3
   },
   "file_extension": ".py",
   "mimetype": "text/x-python",
   "name": "python",
   "nbconvert_exporter": "python",
   "pygments_lexer": "ipython3",
   "version": "3.6.5"
  }
 },
 "nbformat": 4,
 "nbformat_minor": 2
}
