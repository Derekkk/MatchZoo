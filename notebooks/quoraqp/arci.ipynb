{
 "cells": [
  {
   "cell_type": "markdown",
   "metadata": {},
   "source": [
    "### Build a Arc-I Model\n",
    "\n",
    "<img src=\"https://raw.githubusercontent.com/NTMC-Community/MatchZoo/2.0/artworks/matchzoo-logo.png\" alt=\"logo\" style=\"width:600px;float: center\"/>\n",
    "\n",
    "This is a tutorial on training *Arc-I Model* [Hu et al. 2014](http://papers.nips.cc/paper/5550-convolutional-neural-network-architectures-for-matching-natural-language-sentences.pdf) model with [MatchZoo](https://github.com/faneshion/MatchZoo)for **classification task**. We use [QuoraQP](https://data.quora.com/First-Quora-Dataset-Release-Question-Pairs) as the example benchmark data set to show the usage.\n",
    "\n",
    "*To walk through this notebook, you need approx 90 minutes.*\n",
    "\n",
    "-------"
   ]
  },
  {
   "cell_type": "code",
   "execution_count": 1,
   "metadata": {},
   "outputs": [
    {
     "name": "stdout",
     "output_type": "stream",
     "text": [
      "['', '/home/pangliang/nips/venv/lib/python36.zip', '/home/pangliang/nips/venv/lib/python3.6', '/home/pangliang/nips/venv/lib/python3.6/lib-dynload', '/usr/local/python3/lib/python3.6', '/home/pangliang/nips/venv/lib/python3.6/site-packages', '/home/pangliang/nips/playground_pl', '/home/pangliang/matching/MatchZoo_New', '/home/pangliang/nips/venv/lib/python3.6/site-packages/IPython/extensions', '/home/pangliang/.ipython']\n"
     ]
    }
   ],
   "source": [
    "import sys\n",
    "print(sys.path)"
   ]
  },
  {
   "cell_type": "markdown",
   "metadata": {},
   "source": [
    "**TL;DR**\n",
    "\n",
    "The following code block illustrates the main workflow of how to train a Arc-I model. \n",
    "\n",
    "```python\n",
    "from matchzoo import preprocessor\n",
    "from matchzoo import generators\n",
    "from matchzoo import models\n",
    "\n",
    "train, test = ... # prepare your training data and test data.\n",
    "\n",
    "arci_preprocessor = preprocessor.ArcIPreprocessor()\n",
    "processed_tr = arci_preprocessor.fit_transform(train, stage='train')\n",
    "processed_te = arci_preprocessor.fit_transform(test, stage='predict')\n",
    "\n",
    "\n",
    "generator_tr = generators.PointGenerator(processed_tr)\n",
    "generator_te = generators.PointGenerator(processed_te)\n",
    "# Example, train with generator, test with the first batch.\n",
    "X_te, y_te = generator_te[0]\n",
    "\n",
    "arci_model = models.ArcIModel()\n",
    "arci_model.guess_and_fill_missing_params()\n",
    "arci_model.build()\n",
    "arci_model.compile()\n",
    "arci_model.fit_generator(generator_tr)\n",
    "# Make predictions\n",
    "predictions = arci_model.predict([X_te.text_left, X_te.text_right])\n",
    "```\n",
    "\n",
    "-----"
   ]
  },
  {
   "cell_type": "markdown",
   "metadata": {},
   "source": [
    "MatchZoo expect a list of *Quintuple* as training data:\n",
    "\n",
    "```python\n",
    "train = [('qid0', 'did0', 'query 0', 'document 0', 'label 0'),\n",
    "         ('qid0', 'did1', 'query 0', 'document 1', 'label 1'),\n",
    "          ...,\n",
    "         ('qid1', 'did2', 'query 1', 'document 2', 'label 3')]\n",
    "```\n",
    "\n",
    "The corresponded columns are `(text_left_id, text_right_id, text_left, text_right, label)`. For Information Retrieval task, *text_left* is referred as *query*, and *text_right* is document.\n",
    "\n",
    "For the test case, MatchZoo expect a list of *Quadruple* (we do not need labels) as input:\n",
    "\n",
    "```python\n",
    "test = [('qid9', 'did5', 'query 9', 'document 5'),\n",
    "         ...,\n",
    "        ('qid2', 'did7', 'query 2', 'document 7')]\n",
    "```"
   ]
  },
  {
   "cell_type": "markdown",
   "metadata": {},
   "source": [
    "### Table of Content\n",
    "\n",
    "+ Prepare QuoraQP dataset\n",
    "    - Download\n",
    "    - Load\n",
    "    - Adjustment\n",
    "+ Preprocessing\n",
    "+ Data Generator\n",
    "+ Model Training\n",
    "    - Initialize\n",
    "    - Hyper-Parameters\n",
    "    - Make Prediction\n",
    "    - Model Persistence\n",
    "- Reference"
   ]
  },
  {
   "cell_type": "markdown",
   "metadata": {},
   "source": [
    "### Prepare Quora Question Pair dataset\n",
    "\n",
    "#### Download\n",
    "\n",
    "We take QuoraQP as the example benchmark dataset to show the usage of MatchZoo. Firstly you need to downlowd the data and uncompress the data, currently you need to download the dataset via [kaggle](https://www.kaggle.com/c/quora-question-pairs/data). Unzip the data, you'll get\n",
    "\n",
    "- train.csv\n",
    "- test.csv"
   ]
  },
  {
   "cell_type": "markdown",
   "metadata": {},
   "source": [
    "#### Load & Adjustment\n",
    "\n",
    "The *train/test* files of QuoraQP are *train.csv*,  *test.csv* under the uncompressed folder QuoraQP. \n",
    "\n",
    "We can convert this format to the expected input format of MatchZoo."
   ]
  },
  {
   "cell_type": "code",
   "execution_count": 6,
   "metadata": {},
   "outputs": [
    {
     "name": "stdout",
     "output_type": "stream",
     "text": [
      "                  id           qid1           qid2   is_duplicate\n",
      "count  404290.000000  404290.000000  404290.000000  404290.000000\n",
      "mean   202144.500000  217243.942418  220955.655337       0.369198\n",
      "std    116708.614503  157751.700002  159903.182629       0.482588\n",
      "min         0.000000       1.000000       2.000000       0.000000\n",
      "25%    101072.250000   74437.500000   74727.000000       0.000000\n",
      "50%    202144.500000  192182.000000  197052.000000       0.000000\n",
      "75%    303216.750000  346573.500000  354692.500000       1.000000\n",
      "max    404289.000000  537932.000000  537933.000000       1.000000\n"
     ]
    }
   ],
   "source": [
    "data_folder = '../../data/quoraqp/'\n",
    "\n",
    "import pandas as pd\n",
    "import numpy as np\n",
    "\n",
    "def read_data(file_path, stage):\n",
    "    df = pd.read_csv(file_path, dtype={'question1': 'str', 'question2': 'str'}, keep_default_na=False)\n",
    "    print(df.describe())\n",
    "    if stage == 'train':\n",
    "        df = df[['qid1', 'qid2', 'question1', 'question2', 'is_duplicate']]\n",
    "    elif stage == 'predict':\n",
    "        df = df[['question1', 'question2']]\n",
    "        # assign ids to left and right\n",
    "        q_a = pd.unique(df.values.ravel())\n",
    "        # add index for each\n",
    "        q_a = dict(map(lambda t: (t[1], t[0]), enumerate(q_a)))\n",
    "        # assign id\n",
    "        df['qid1'] = df['question1'].map(q_a)\n",
    "        df['qid2'] = df['question2'].map(q_a)\n",
    "        # change the order of columns\n",
    "        cols = ['qid1', 'qid2', 'question1', 'question2']\n",
    "        df = df[cols]\n",
    "    # convert dataframe into list of tuples\n",
    "    qa_pairs = [tuple(x) for x in df.values]\n",
    "    return qa_pairs\n",
    "    \n",
    "\n",
    "train_all = read_data(data_folder + 'train.csv', stage='train')\n",
    "\n",
    "train = []\n",
    "test = []\n",
    "for i in range(len(train_all)):\n",
    "    if i % 5 == 0:\n",
    "        test.append(tuple(train_all[i][:-1]))\n",
    "    else:\n",
    "        train.append(train_all[i])\n",
    "\n",
    "# if you need test on unseen test set use this code\n",
    "# test_all = read_data(data_folder + 'test.csv', stage='predict')\n"
   ]
  },
  {
   "cell_type": "markdown",
   "metadata": {},
   "source": [
    "### Preprocessing\n"
   ]
  },
  {
   "cell_type": "markdown",
   "metadata": {},
   "source": [
    "#### Download\n",
    "\n",
    "We first download the GLoVe pre-trained word embeddings. Be pationt - this takes a long time related to your network service. Alternatively, you can download it via another downloading tool and put **glove.840B.300d.txt** in the directory **../../data/embedding**."
   ]
  },
  {
   "cell_type": "code",
   "execution_count": null,
   "metadata": {
    "scrolled": false
   },
   "outputs": [],
   "source": [
    "!mkdir -p ../../data/embedding\n",
    "!wget -O ../../data/embedding/glove.840B.300d.zip http://nlp.stanford.edu/data/glove.840B.300d.zip \n",
    "!unzip -o ../../data/embedding/glove.840B.300d.zip -d ../../data/embedding"
   ]
  },
  {
   "cell_type": "markdown",
   "metadata": {},
   "source": [
    "#### Preproceesing with pre-trained embeddings\n",
    "\n",
    "We run the processor in three lines of code.  \n",
    "If we use **the randomly initialized embeddings**, just keep default value for *embedding_file*, and the preprocessing code is as follows:\n",
    "```python\n",
    "from matchzoo import preprocessor\n",
    "arci_preprocessor = preprocessor.ArcIPreprocessor()\n",
    "processed_tr = arci_preprocessor.fit_transform(train, stage='train')\n",
    "processed_te = arci_preprocessor.fit_transform(test, stage='predict')\n",
    "```"
   ]
  },
  {
   "cell_type": "code",
   "execution_count": 8,
   "metadata": {},
   "outputs": [
    {
     "name": "stderr",
     "output_type": "stream",
     "text": [
      "Start building vocabulary & fitting parameters.\n",
      "241934it [01:25, 2843.19it/s]\n",
      "247429it [01:28, 2780.61it/s]\n",
      "Some words are not shown in term_index(74174). Total number of words are 74175.\n",
      "2196017it [01:00, 36364.00it/s]\n",
      "Start processing input data for train stage.\n",
      "241934it [01:40, 2417.84it/s]\n",
      "247429it [01:44, 2377.07it/s]\n",
      "Start processing input data for predict stage.\n",
      "71733it [00:29, 2434.85it/s]\n",
      "71840it [00:30, 2334.72it/s]\n"
     ]
    }
   ],
   "source": [
    "# Initialize a arci preprocessor.\n",
    "from matchzoo import preprocessor\n",
    "arci_preprocessor = preprocessor.ArcIPreprocessor(embedding_file='../../data/embedding/glove.840B.300d.txt')\n",
    "processed_tr = arci_preprocessor.fit_transform(train, stage='train')\n",
    "processed_te = arci_preprocessor.fit_transform(test, stage='predict')"
   ]
  },
  {
   "cell_type": "markdown",
   "metadata": {},
   "source": [
    "**What is `processed_tr`?**\n",
    "\n",
    "`processed_tr` is a **MatchZoo DataPack** data structure (see `matchzoo/datapack.py`). It contains \n",
    "1. A *2-columns* `pandas DataFrame` called `left` to host all the pre-processed records including index and processed text to store `text_left` and `id_left`.\n",
    "2. A *2-columns* `pandas DataFrame` called `right` to host all the pre-processed records including index and processed text to store `text_right` and `id_right`.\n",
    "3. A *2-columns* `pandas DataFrame` called `relation` to host all the pre-processed records including index and index mapping `id_left` and `id_right`.\n",
    "4. A `context` property (dictionary) consists of all the parameters fitted during pre-processing. \n",
    "\n",
    "\n",
    "The `fit_transform` method is a sequential combination of two methods:\n",
    "\n",
    "1. Fit parameters using the `fit` function, this only happens when `stage='train'`.\n",
    "2. Transform data into expected format.\n",
    "\n",
    "So the previous preprocessing code in test stage can also be written as:\n",
    "\n",
    "```python\n",
    "processed_te = arci_preprocessor.transform(test, stage='predict')\n",
    "```"
   ]
  },
  {
   "cell_type": "markdown",
   "metadata": {},
   "source": [
    "As described, the fitted parameters were stored in `context` property, to access the context, just call:\n",
    "\n",
    "```python\n",
    "print(processed_tr.context)\n",
    "```\n",
    "An example:"
   ]
  },
  {
   "cell_type": "code",
   "execution_count": 9,
   "metadata": {},
   "outputs": [
    {
     "name": "stdout",
     "output_type": "stream",
     "text": [
      "vocab size:  74174\n"
     ]
    }
   ],
   "source": [
    "print('vocab size: ', len(processed_tr.context['term_index']))"
   ]
  },
  {
   "cell_type": "markdown",
   "metadata": {},
   "source": [
    "**What has been stored in the `context?`** \n",
    "\n",
    "We stored `term_index` and `input_shapes` in the context property. \n",
    "\n",
    "\n",
    "**What is `arci_preprocessor` actually doing?**\n",
    "\n",
    "The `arci_preprocessor` is calling a sequence of `process_units`. Each `process_unit` is designed to perform one atom operation on input data. For instance, in `arci_preprocessor`, we called:\n",
    "\n",
    "\n",
    "1. TokenizeUnit: Perform tokenization on raw input data.\n",
    "2. LowercaseUnit: Transform all tokens into lower case.\n",
    "3. PuncRemovalUnit: Remove all the punctuations.\n",
    "4. StopRemovalUnit: Remove all the stopwords.\n",
    "\n",
    "Depending on whether using the pre-trained embeddings, the preprocessor loads the embedding from an embedding file or randomly initializes the embeddings.\n",
    "\n",
    "\n",
    "----\n",
    "\n",
    "### Data Generation\n",
    "\n",
    "For memory efficiency, we expect you to use **generator** to generate batches of data on the fly. For example, we can create a **PointGenerator** as follows:"
   ]
  },
  {
   "cell_type": "code",
   "execution_count": 10,
   "metadata": {},
   "outputs": [],
   "source": [
    "from matchzoo import generators\n",
    "from matchzoo import tasks\n",
    "generator_tr = generators.PointGenerator(inputs=processed_tr, task=tasks.Classification(), batch_size=64, stage='train')\n",
    "generator_te = generators.PointGenerator(inputs=processed_te, task=tasks.Classification(), batch_size=64, stage='predict')"
   ]
  },
  {
   "cell_type": "markdown",
   "metadata": {},
   "source": [
    "To get the first batch of trainig data, just call `X_train, y_train = generator[0]`.\n",
    "\n",
    "**What is PointGenerator?**\n",
    "**PointGenerator** is this case, it is assumed that each query-document pair in the training data has a numerical or ordinal score. Then the problem can be approximated by a regression/Classification problem — given a single query-document pair, predict its score.\n",
    "\n",
    "A number of existing supervised machine learning algorithms can be readily used for this purpose. Ordinal regression and classification algorithms can also be used in pointwise approach when they are used to predict the score of a single query-document pair, and it takes a small, finite number of values.\n",
    "\n",
    "**What is PairGenerator?**\n",
    "In this case, the problem is approximated by a classification problem — learning a binary classifier that can tell which document is better in a given pair of documents.\n",
    "\n",
    "In MatchZoo, **PairGenerator** generate one positive & `num_neg` negative examples per pair. As an example, to train an Arc-I model (for document ranking), we use `num_neg=4`. \n",
    "\n",
    "**What is ListGenerator?**\n",
    "This generator try to directly optimize the value of evaluation measures, averaged over all queries in the training data. \n",
    "\n",
    "Chosse the appropriate generator based on your `task`.\n",
    "\n",
    "----\n",
    "\n",
    "### Train Your Arc-I Model\n",
    "\n",
    "To train a Arc-I model, we need to create an instance of ArcIModel:"
   ]
  },
  {
   "cell_type": "code",
   "execution_count": 11,
   "metadata": {},
   "outputs": [],
   "source": [
    "from matchzoo import models\n",
    "arci_model = models.ArcIModel()"
   ]
  },
  {
   "cell_type": "markdown",
   "metadata": {},
   "source": [
    "Then, we need to set hyper-parameters to our Arc-I Model. In general, there are **two types of hyper-parameters**:\n",
    "\n",
    "**Required parameters**: For Arc-I, if you are using the pre-trained embeddings, you're required to set the embedding_mat and the size manually!"
   ]
  },
  {
   "cell_type": "code",
   "execution_count": 12,
   "metadata": {},
   "outputs": [],
   "source": [
    "# The fitted parameters is stored in the `context` property of pre-processor instance during the training stage.\n",
    "from matchzoo import losses\n",
    "from matchzoo import tasks\n",
    "arci_model.params['task'] = tasks.Classification()\n",
    "arci_model.embedding_mat = processed_tr.context['embedding_mat']"
   ]
  },
  {
   "cell_type": "markdown",
   "metadata": {
    "collapsed": true
   },
   "source": [
    "**Tunable parameters**: For Arc-I, you're allowed to tune these parameters:\n",
    "\n",
    "```python\n",
    "from matchzoo import tasks\n",
    "\n",
    "        \n",
    "params = {\n",
    "            'input_shapes': [(32,), (32,)] # Lengths of matching texts.\n",
    "            'optimizer': 'adam' # By default, we use sgd. See keras optimizer.\n",
    "            'trainable_embedding': False # Whether finetune the embeddings.\n",
    "            'num_blocks': 1 # Number of the convolution layers.\n",
    "            'left_kernel_count': [32] # Number of filters in convolution. See keras Conv1D.\n",
    "            'left_kernel_size': [3] # The length of the 1D convolution window. See keras Conv1D.\n",
    "            'right_kernel_count': [32] # Number of filters in convolution. See keras Conv1D.\n",
    "            'right_kernel_size': [3] # The length of the 1D convolution window. See keras Conv1D.\n",
    "            'activation': 'relu' # Activation function in convolution. See keras Conv1D.\n",
    "            'left_pool_size': [2] # Size of the max pooling windows for the left text. See keras MaxPooling1D.\n",
    "            'right_pool_size': [2] # Size of the max pooling windows for rhe right text. See keras MaxPooling1D.\n",
    "            'padding': 'same' # Padding mode. See keras padding in Conv1D.   \n",
    "            'dropout_rate': 0.0 # Probability of an element to be zeroed. See keras Dropout.\n",
    "            'embedding_random_scale': 0.2 # The range of the random initialized embedding. \n",
    "            'task': tasks.Classification, # Default Classification, you can use tasks.Ranking\n",
    "            'loss': 'categorical_crossentropy', # categorical_crossentropy, see keras loss.\n",
    "            'metric': 'acc', # Accuracy by default, see keras metric.\n",
    "         }\n",
    "```"
   ]
  },
  {
   "cell_type": "code",
   "execution_count": 13,
   "metadata": {
    "scrolled": false
   },
   "outputs": [
    {
     "name": "stdout",
     "output_type": "stream",
     "text": [
      "arci parameters:  name                          ArcIModel\n",
      "model_class                   <class 'matchzoo.models.arci_model.ArcIModel'>\n",
      "input_shapes                  [(32,), (32,)]\n",
      "task                          <matchzoo.tasks.classification.Classification object at 0x7fc65ef914a8>\n",
      "metrics                       ['acc']\n",
      "loss                          categorical_crossentropy\n",
      "optimizer                     adam\n",
      "trainable_embedding           False\n",
      "embedding_dim                 300\n",
      "vocab_size                    74175\n",
      "num_blocks                    1\n",
      "left_kernel_count             [32]\n",
      "left_kernel_size              [3]\n",
      "right_kernel_count            [32]\n",
      "right_kernel_size             [3]\n",
      "activation                    relu\n",
      "left_pool_size                [2]\n",
      "right_pool_size               [2]\n",
      "padding                       same\n",
      "dropout_rate                  0.0\n",
      "embedding_mat                 [[ 0.        0.        0.       ...  0.        0.        0.      ]\n",
      " [-0.059527  0.13702  -1.1131   ...  0.74374   0.10007   0.51619 ]\n",
      " [ 0.23856   0.80696   0.19334  ...  0.36615  -0.11555   0.36554 ]\n",
      " ...\n",
      " [ 0.26453   0.14065   0.10897  ...  0.50962   0.29108  -0.33181 ]\n",
      " [ 0.45529  -0.26132   0.315    ...  0.59478  -0.3255   -0.5238  ]\n",
      " [ 0.43215  -0.58183  -0.10781  ...  0.064873  0.62465  -0.12862 ]]\n",
      "embedding_random_scale        0.2\n"
     ]
    }
   ],
   "source": [
    "arci_model.guess_and_fill_missing_params()\n",
    "print('arci parameters: ', arci_model.params)"
   ]
  },
  {
   "cell_type": "markdown",
   "metadata": {},
   "source": [
    "#### Model Training\n",
    "\n",
    "To train the model after all the parameters were settled, call:"
   ]
  },
  {
   "cell_type": "code",
   "execution_count": 14,
   "metadata": {},
   "outputs": [
    {
     "name": "stdout",
     "output_type": "stream",
     "text": [
      "Epoch 1/10\n",
      "200/200 [==============================] - 6s 31ms/step - loss: 0.6037 - acc: 0.6766\n",
      "Epoch 2/10\n",
      "200/200 [==============================] - 5s 26ms/step - loss: 0.5728 - acc: 0.7068\n",
      "Epoch 3/10\n",
      "200/200 [==============================] - 5s 25ms/step - loss: 0.5650 - acc: 0.7104\n",
      "Epoch 4/10\n",
      "200/200 [==============================] - 5s 26ms/step - loss: 0.5535 - acc: 0.7182\n",
      "Epoch 5/10\n",
      "200/200 [==============================] - 5s 26ms/step - loss: 0.5421 - acc: 0.7270\n",
      "Epoch 6/10\n",
      "200/200 [==============================] - 5s 25ms/step - loss: 0.5471 - acc: 0.7280\n",
      "Epoch 7/10\n",
      "200/200 [==============================] - 5s 26ms/step - loss: 0.5354 - acc: 0.7334\n",
      "Epoch 8/10\n",
      "200/200 [==============================] - 5s 25ms/step - loss: 0.5343 - acc: 0.7357: 1s - \n",
      "Epoch 9/10\n",
      "200/200 [==============================] - 5s 26ms/step - loss: 0.5388 - acc: 0.7305\n",
      "Epoch 10/10\n",
      "200/200 [==============================] - 5s 25ms/step - loss: 0.5364 - acc: 0.7337\n"
     ]
    }
   ],
   "source": [
    "arci_model.build()\n",
    "arci_model.compile()\n",
    "# Fit the arci model on generator.\n",
    "arci_model.fit_generator(generator_tr, steps_per_epoch=200, epochs=10)\n",
    "# Make predictions on the first batch of test data\n",
    "X_te, y_te = generator_te[0]\n",
    "predictions = arci_model.predict([X_te.text_left, X_te.text_right])"
   ]
  },
  {
   "cell_type": "markdown",
   "metadata": {},
   "source": [
    "#### Make Prediction"
   ]
  },
  {
   "cell_type": "code",
   "execution_count": 15,
   "metadata": {},
   "outputs": [
    {
     "name": "stdout",
     "output_type": "stream",
     "text": [
      "33028/43757 is predicted as [0.4979838 0.5020162]\n",
      "115696/378134 is predicted as [0.8761945  0.12380555]\n",
      "205305/205306 is predicted as [0.9504754  0.04952463]\n",
      "49383/162039 is predicted as [0.5655674 0.4344326]\n",
      "480633/480634 is predicted as [0.67904896 0.3209511 ]\n",
      "416931/416932 is predicted as [0.45275682 0.54724324]\n",
      "387313/387314 is predicted as [0.9402801  0.05971995]\n",
      "388271/388272 is predicted as [0.7440659  0.25593412]\n",
      "248810/248811 is predicted as [0.6187144 0.3812856]\n",
      "38511/38512 is predicted as [0.33405593 0.66594404]\n",
      "37662/37663 is predicted as [0.4023736 0.5976264]\n",
      "246314/246315 is predicted as [0.59830076 0.40169924]\n",
      "109229/40719 is predicted as [0.32115906 0.6788409 ]\n",
      "433070/433071 is predicted as [0.7403322  0.25966778]\n",
      "132063/132064 is predicted as [0.8728965  0.12710348]\n",
      "309263/309264 is predicted as [0.8540141  0.14598592]\n",
      "65248/134425 is predicted as [0.11496417 0.88503575]\n",
      "357101/357102 is predicted as [0.914261   0.08573897]\n",
      "273353/126678 is predicted as [0.3753102  0.62468976]\n",
      "113275/102326 is predicted as [0.4263457  0.57365423]\n",
      "469422/469423 is predicted as [0.94302094 0.05697909]\n",
      "241170/241171 is predicted as [0.6363941  0.36360595]\n",
      "139320/113761 is predicted as [0.569897   0.43010303]\n",
      "117912/27370 is predicted as [0.38728872 0.61271125]\n",
      "62339/250852 is predicted as [0.58146447 0.41853544]\n",
      "18915/197875 is predicted as [0.6227793 0.3772207]\n",
      "25734/98169 is predicted as [0.31826904 0.6817309 ]\n",
      "531047/207763 is predicted as [0.5240939 0.475906 ]\n",
      "245414/439826 is predicted as [0.6286162  0.37138376]\n",
      "210443/395259 is predicted as [0.9158148  0.08418518]\n",
      "159032/159033 is predicted as [0.53543454 0.4645655 ]\n",
      "6651/6652 is predicted as [0.61294705 0.38705292]\n",
      "56607/17576 is predicted as [0.33602723 0.66397274]\n",
      "33093/30048 is predicted as [0.08397244 0.9160276 ]\n",
      "512748/512749 is predicted as [0.8508888  0.14911121]\n",
      "232401/130456 is predicted as [0.93254024 0.06745978]\n",
      "68848/182597 is predicted as [0.36065286 0.63934714]\n",
      "397035/397036 is predicted as [0.70020944 0.29979053]\n",
      "359068/359069 is predicted as [0.64014757 0.35985246]\n",
      "428138/518465 is predicted as [0.8711571  0.12884292]\n",
      "167292/366729 is predicted as [0.9420401  0.05795986]\n",
      "158024/95966 is predicted as [0.4472297 0.5527703]\n",
      "65737/65738 is predicted as [0.6205436 0.3794563]\n",
      "357457/283268 is predicted as [0.7263887  0.27361134]\n",
      "391863/391864 is predicted as [0.7603956  0.23960444]\n",
      "196491/337792 is predicted as [0.5695396  0.43046042]\n",
      "9515/9516 is predicted as [0.78467244 0.21532756]\n",
      "53720/253024 is predicted as [0.52846473 0.47153527]\n",
      "88531/399827 is predicted as [0.9086242  0.09137589]\n",
      "265940/265941 is predicted as [0.7864071  0.21359287]\n",
      "191470/399543 is predicted as [0.6144931 0.385507 ]\n",
      "509135/509136 is predicted as [0.693857   0.30614302]\n",
      "16733/16734 is predicted as [0.81858325 0.18141674]\n",
      "10565/46047 is predicted as [0.06672078 0.9332793 ]\n",
      "407893/407894 is predicted as [0.64471036 0.35528958]\n",
      "253235/253236 is predicted as [0.8995146  0.10048538]\n",
      "117412/117413 is predicted as [0.57972485 0.42027515]\n",
      "529462/529463 is predicted as [0.47544459 0.52455544]\n",
      "412186/440509 is predicted as [0.9422407  0.05775924]\n",
      "303209/303210 is predicted as [0.6999119 0.3000881]\n",
      "33677/45987 is predicted as [0.7567528  0.24324718]\n",
      "60520/60521 is predicted as [0.8283691  0.17163093]\n",
      "212909/212910 is predicted as [0.53575796 0.46424207]\n",
      "68824/68825 is predicted as [0.4557516 0.5442484]\n"
     ]
    }
   ],
   "source": [
    "for id_left, id_right, pred in zip(X_te.id_left, X_te.id_right, predictions):\n",
    "    print(\"{}/{} is predicted as {}\".format(id_left, id_right, pred))"
   ]
  },
  {
   "cell_type": "markdown",
   "metadata": {},
   "source": [
    "#### Model Persistence\n",
    "\n",
    "You can persist your trained model using `model.save()` and `load_model` function:\n",
    "\n",
    "```python\n",
    "from matchzoo import engine\n",
    "# Save the model to dir.\n",
    "arci_model.save('/your-model-saved-path')\n",
    "# And load the model from dir.\n",
    "engine.load_model('/your-model-saved-path')\n",
    "```"
   ]
  },
  {
   "cell_type": "markdown",
   "metadata": {},
   "source": [
    "## Reference\n",
    "\n",
    "[Hu et al. 2014] Baotian Hu, Zhengdong Lu, Hang Li, and Qingcai Chen. \"Convolutional neural network architectures for matching natural language sentences.\" In Advances in neural information processing systems (NIPS), pp. 2042-2050. 2014."
   ]
  }
 ],
 "metadata": {
  "kernelspec": {
   "display_name": "matchzoo",
   "language": "python",
   "name": "matchzoo"
  },
  "language_info": {
   "codemirror_mode": {
    "name": "ipython",
    "version": 3
   },
   "file_extension": ".py",
   "mimetype": "text/x-python",
   "name": "python",
   "nbconvert_exporter": "python",
   "pygments_lexer": "ipython3",
   "version": "3.6.2"
  }
 },
 "nbformat": 4,
 "nbformat_minor": 2
}
